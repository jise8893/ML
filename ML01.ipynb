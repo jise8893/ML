import tensorflow as tf
hello =tf.constant("Hello, Tensor")

print(hello)
node1= tf.constant(3.0,tf.float32)
node2= tf.constant(4.0)
node3= tf.add(node1,node2)
print("node1:", node1,"node2",node2)


import numpy as np
test=np.array([[2],[2,4]])
/usr/local/lib/python3.7/dist-packages/ipykernel_launcher.py:2: VisibleDeprecationWarning: Creating an ndarray from ragged nested sequences (which is a list-or-tuple of lists-or-tuples-or ndarrays with different lengths or shapes) is deprecated. If you meant to do this, you must specify 'dtype=object' when creating the ndarray
  
[ ]
print(test.shape)
(2,)
[ ]
X= np.array([1,2])
W=np.array([[1,3,5],[2,4,6]])
np.dot(X,W)


array([ 5, 11, 17])
[2]
1초
import tensorflow as tf
[9]
0초
hello =tf.constant("Hello, Tensor")

print(hello)
tf.Tensor(b'Hello, Tensor', shape=(), dtype=string)
[10]
0초
hello
<tf.Tensor: shape=(), dtype=string, numpy=b'Hello, Tensor'>
[17]
0초
node1= tf.constant(3.0,tf.float32)
node2= tf.constant(4.0)
node3= tf.add(node1,node2)
[18]
0초
print("node1:", node1,"node2",node2)
node1: tf.Tensor(3.0, shape=(), dtype=float32) node2 tf.Tensor(4.0, shape=(), dtype=float32)
[19]
0초
print(node3)
tf.Tensor(7.0, shape=(), dtype=float32)
텐서플로우 작동방식 1.그래프 빌드 2.그래프 세션을 통해 실행시킴

변수업데이트를 함 output
def adder(a,b):
  return a+b

adder(node1,node2)

a=tf.constant([1,3])
b=tf.constant([2,4])

adder(a,b)

//linear regression
